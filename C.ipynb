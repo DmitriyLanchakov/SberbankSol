{
 "cells": [
  {
   "cell_type": "code",
   "execution_count": 1,
   "metadata": {
    "collapsed": true
   },
   "outputs": [],
   "source": [
    "import pandas as pd\n",
    "import numpy as np\n",
    "from itertools import product\n",
    "from sklearn.linear_model import LinearRegression\n",
    "import xgboost\n",
    "%matplotlib inline"
   ]
  },
  {
   "cell_type": "code",
   "execution_count": 2,
   "metadata": {
    "collapsed": true
   },
   "outputs": [],
   "source": [
    "transactions = pd.read_csv('~/data/sberbank/transactions.csv')\n",
    "customers_gender = pd.read_csv('~/data/sberbank/customers_gender_train.csv')"
   ]
  },
  {
   "cell_type": "code",
   "execution_count": 3,
   "metadata": {
    "collapsed": true
   },
   "outputs": [],
   "source": [
    "cuses_test = list(set(transactions.customer_id.unique().tolist()).difference(customers_gender.customer_id.unique()))\n",
    "all_cuses = transactions.customer_id.unique()\n",
    "all_mcc = transactions.mcc_code.unique()"
   ]
  },
  {
   "cell_type": "code",
   "execution_count": 4,
   "metadata": {
    "collapsed": true
   },
   "outputs": [],
   "source": [
    "transactions = transactions[transactions.amount < 0].copy()\n",
    "transactions['day'] = transactions.tr_datetime.apply(lambda dt: dt.split()[0]).astype(int)"
   ]
  },
  {
   "cell_type": "code",
   "execution_count": 5,
   "metadata": {
    "collapsed": true
   },
   "outputs": [],
   "source": [
    "def rmse(x, y):\n",
    "    return np.sqrt(np.mean((x - y)**2))\n",
    "def create_tmp(maxday):\n",
    "    index = (transactions.day > maxday - 30) & (transactions.day <= maxday)\n",
    "    tmp = transactions[index]\n",
    "    tmp = tmp.groupby(['customer_id', 'mcc_code'])['amount'].sum().apply(lambda x: np.log(-x + 1))\n",
    "    return tmp\n",
    "def create_series():\n",
    "    X = list(product(*[all_cuses, all_mcc]))\n",
    "    X = pd.DataFrame(X, columns=['customer_id',  'mcc_code'])\n",
    "    X = X.set_index(['customer_id', 'mcc_code'])\n",
    "    for i, time in enumerate(range(transactions.day.max(), 30, -30)):\n",
    "        tmp = create_tmp(time)\n",
    "        X[i] = tmp\n",
    "    X = X.fillna(0)\n",
    "    X['series'] = [list(i) for i in X.values]\n",
    "    return X.index,  np.array(list(X.series))"
   ]
  },
  {
   "cell_type": "code",
   "execution_count": 6,
   "metadata": {
    "collapsed": true
   },
   "outputs": [],
   "source": [
    "index, M = create_series()"
   ]
  },
  {
   "cell_type": "code",
   "execution_count": 7,
   "metadata": {
    "collapsed": true
   },
   "outputs": [],
   "source": [
    "def regression(x):\n",
    "    if (x == 0).sum() == len(x):\n",
    "        return 0\n",
    "    if len(x) < 2:\n",
    "        return 0\n",
    "    A = np.vstack([np.arange(0, len(x)), np.ones(len(x))]).T\n",
    "    return np.linalg.inv(A.T.dot(A)).dot(A.T).dot(x).dot([-1, 1])\n",
    "def create_short(X):\n",
    "    X_short = X.set_index('customer_id')\n",
    "    X_short = X_short.loc[cuses_test]\n",
    "    X_short = X_short.reset_index()\n",
    "    return X_short"
   ]
  },
  {
   "cell_type": "code",
   "execution_count": 8,
   "metadata": {
    "collapsed": true
   },
   "outputs": [],
   "source": [
    "minmonth = pd.DataFrame(index=index).reset_index().set_index('customer_id')\n",
    "tmp = pd.Series(index=all_cuses)\n",
    "tmp = 15 - ((transactions.day.groupby(by=transactions.customer_id).min() + 24) // 30).loc[all_cuses]\n",
    "minmonth['maxtime'] = tmp\n",
    "minmonth = minmonth.fillna(0)\n",
    "maxtime = minmonth.maxtime.astype(int).values"
   ]
  },
  {
   "cell_type": "code",
   "execution_count": 9,
   "metadata": {
    "collapsed": true
   },
   "outputs": [],
   "source": [
    "tmp = pd.DataFrame(index=index).reset_index()\n",
    "tmp['series'] = [M[i, 2:] for i in range(len(M))]\n",
    "tmp = tmp.series.groupby(tmp.customer_id).apply(np.hstack).apply(list)\n",
    "corr = np.corrcoef(np.array(list(tmp.values)))"
   ]
  },
  {
   "cell_type": "code",
   "execution_count": 10,
   "metadata": {
    "collapsed": true
   },
   "outputs": [],
   "source": [
    "Arr = pd.DataFrame(M[:, 2:].mean(axis=1), index=index).reset_index()\n",
    "tmp = Arr[0].groupby(Arr.customer_id).apply(list)\n",
    "A = np.array(list(tmp))\n",
    "A[(A == 0).sum(axis=1) == 184] = 0.001\n",
    "corr = np.corrcoef(A)\n",
    "corr_pandas = pd.DataFrame(corr, index=tmp.index, columns=tmp.index).fillna(0)\n",
    "s = {}\n",
    "for i, (user, code) in enumerate(index.values):\n",
    "    if user not in s:\n",
    "        s[user] = {}\n",
    "    s[user][code] = M[i]\n",
    "neighbors = {}\n",
    "for user in corr_pandas.index:\n",
    "    neighbors[user] = corr_pandas.loc[user].sort_values(ascending=False)[:15].index.difference([user])\n",
    "s_dash = []\n",
    "amount = Arr[[0]].groupby(Arr.customer_id).sum()\n",
    "ind = dict(zip(amount.index, range(len(amount))))\n",
    "for user, code in index.values:\n",
    "    num = 0\n",
    "    den = 0\n",
    "    alpha = np.mean(s[user][code][2:])\n",
    "    for user2 in neighbors[user]:\n",
    "        num += corr[ind[user], ind[user2]] * s[user2][code]\n",
    "        den += corr[ind[user], ind[user2]]\n",
    "    s_dash.append(list(num / den))\n",
    "M2 = np.array(s_dash)"
   ]
  },
  {
   "cell_type": "code",
   "execution_count": 11,
   "metadata": {
    "collapsed": true
   },
   "outputs": [],
   "source": [
    "def create_X(index, M, M2, time):\n",
    "    \n",
    "    X = pd.DataFrame(index=index).reset_index()\n",
    "    \n",
    "    X['amount'] = M[:, time - 1]\n",
    "    X['mean'] = M[:, time:].mean(axis=1)\n",
    "    X['last_month'] = M[:, time]\n",
    "    X['mean_4month'] = M[:, time : time + 4].mean(axis=1)\n",
    "    X['mean_8month'] = M[:, time : time + 8].mean(axis=1)\n",
    "    X['is_zero'] = (M[:, time:] == 0).sum(axis=1)  == (M.shape[1] - time)\n",
    "    X['flex_regression'] = [regression(M[i, time : maxtime[i] - 1]) for i in range(len(M))]\n",
    "    X['regression'] = [regression(M[i, time:]) for i in range(len(M))]\n",
    "    X['flex_mean'] = [M[i, time : max(maxtime[i] - 1, time + 1)].mean() for i in range(len(M))]\n",
    "    \n",
    "    \n",
    "    col_names = X.columns.difference(['amount', 'customer_id', 'mcc_code'])\n",
    "    columns = dict(zip(col_names, col_names + '_mean_over_mcc'))\n",
    "    X = pd.merge(X, X[col_names].groupby(X.mcc_code).mean().rename(columns=columns).reset_index(), how='left')\n",
    "    \n",
    "    a = 0.5**np.arange(M.shape[1] - 2)\n",
    "    a = a / a.sum()\n",
    "    X['mean_weighted'] = M[:,time : M.shape[1] + time - 2].dot(a)\n",
    "    \n",
    "    X['regression2'] = [regression(M2[i, time:]) for i in range(len(M))]\n",
    "    X['mean_8month2'] = M2[:, time : time + 8].mean(axis=1)\n",
    "    X['mean2'] = M2[:, time:].mean(axis=1)\n",
    "    \n",
    "    return X"
   ]
  },
  {
   "cell_type": "code",
   "execution_count": 12,
   "metadata": {
    "collapsed": true
   },
   "outputs": [],
   "source": [
    "X0 = create_X(index, M, M2, 0)\n",
    "X1 = create_X(index, M, M2, 1)"
   ]
  },
  {
   "cell_type": "code",
   "execution_count": 13,
   "metadata": {
    "collapsed": true
   },
   "outputs": [],
   "source": [
    "X0_short = create_short(X0)"
   ]
  },
  {
   "cell_type": "code",
   "execution_count": 14,
   "metadata": {
    "collapsed": true
   },
   "outputs": [],
   "source": [
    "Xtrain = X1.drop(['amount', 'customer_id'], axis=1)\n",
    "ytrain = X1.amount\n",
    "Xtest = X0_short.drop(['amount', 'customer_id'], axis=1)\n",
    "ytest = X0_short.amount"
   ]
  },
  {
   "cell_type": "code",
   "execution_count": 15,
   "metadata": {
    "collapsed": true
   },
   "outputs": [],
   "source": [
    "model1 = xgboost.XGBRegressor(n_estimators=65, max_depth=5, seed=241, nthread=8)\n",
    "model2 = xgboost.XGBRegressor(n_estimators=74, max_depth=6, seed=241, nthread=8)\n",
    "model3 = xgboost.XGBRegressor(n_estimators=56, max_depth=7, seed=241, nthread=8)"
   ]
  },
  {
   "cell_type": "code",
   "execution_count": 16,
   "metadata": {
    "collapsed": true
   },
   "outputs": [],
   "source": [
    "model1.fit(Xtrain, ytrain)\n",
    "model2.fit(Xtrain, ytrain)\n",
    "model3.fit(Xtrain, ytrain)\n",
    "p1 = model1.predict(Xtest)\n",
    "p2 = model2.predict(Xtest)\n",
    "p3 = model3.predict(Xtest)"
   ]
  },
  {
   "cell_type": "code",
   "execution_count": 17,
   "metadata": {
    "collapsed": false
   },
   "outputs": [],
   "source": [
    "p = np.array([p1, p2, p3])\n",
    "a = np.array([2, 7, 7])\n",
    "pred = a.dot(p)/a.sum()"
   ]
  },
  {
   "cell_type": "code",
   "execution_count": 18,
   "metadata": {
    "collapsed": true
   },
   "outputs": [],
   "source": [
    "Xtest['volume'] = np.e**pred - 1\n",
    "Xtest['customer_id'] = X0_short.customer_id"
   ]
  },
  {
   "cell_type": "code",
   "execution_count": 19,
   "metadata": {
    "collapsed": true
   },
   "outputs": [],
   "source": [
    "Xtest[['customer_id', 'mcc_code', 'volume']].to_csv('C.csv', index=False)"
   ]
  },
  {
   "cell_type": "code",
   "execution_count": null,
   "metadata": {
    "collapsed": true
   },
   "outputs": [],
   "source": []
  }
 ],
 "metadata": {
  "anaconda-cloud": {},
  "kernelspec": {
   "display_name": "Python 3",
   "language": "python",
   "name": "python3"
  },
  "language_info": {
   "codemirror_mode": {
    "name": "ipython",
    "version": 3
   },
   "file_extension": ".py",
   "mimetype": "text/x-python",
   "name": "python",
   "nbconvert_exporter": "python",
   "pygments_lexer": "ipython3",
   "version": "3.5.1"
  }
 },
 "nbformat": 4,
 "nbformat_minor": 0
}
