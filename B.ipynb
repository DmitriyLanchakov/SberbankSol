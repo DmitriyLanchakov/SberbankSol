{
 "cells": [
  {
   "cell_type": "code",
   "execution_count": 1,
   "metadata": {
    "collapsed": true
   },
   "outputs": [],
   "source": [
    "import pandas as pd\n",
    "import numpy as np\n",
    "import seaborn as sns\n",
    "from sklearn.ensemble import GradientBoostingRegressor, RandomForestRegressor\n",
    "from sklearn.linear_model import LinearRegression\n",
    "import matplotlib.pyplot as plt\n",
    "import xgboost\n",
    "%matplotlib inline"
   ]
  },
  {
   "cell_type": "code",
   "execution_count": 2,
   "metadata": {
    "collapsed": true
   },
   "outputs": [],
   "source": [
    "transactions = pd.read_csv('~/data/sberbank/transactions.csv')"
   ]
  },
  {
   "cell_type": "code",
   "execution_count": 3,
   "metadata": {
    "collapsed": true
   },
   "outputs": [],
   "source": [
    "shift = 500\n",
    "train_transactions = transactions[transactions.amount < 0].copy()\n",
    "train_transactions['day'] = train_transactions.tr_datetime.apply(lambda dt: dt.split()[0]).astype(int)"
   ]
  },
  {
   "cell_type": "code",
   "execution_count": 4,
   "metadata": {
    "collapsed": true
   },
   "outputs": [],
   "source": [
    "train_grid = pd.DataFrame(columns=train_transactions.mcc_code.unique(), \n",
    "                          index=train_transactions.day.unique())\n",
    "train_grid = train_grid.unstack().reset_index().dropna(axis=1)\n",
    "train_grid.columns = ['mcc_code', 'day']"
   ]
  },
  {
   "cell_type": "code",
   "execution_count": 5,
   "metadata": {
    "collapsed": false
   },
   "outputs": [],
   "source": [
    "train_transactions = pd.merge(train_grid,\n",
    "                              train_transactions.groupby(['day', 'mcc_code'])[['amount']].sum().reset_index(),\n",
    "                              how='left').fillna(0)"
   ]
  },
  {
   "cell_type": "code",
   "execution_count": 6,
   "metadata": {
    "collapsed": false
   },
   "outputs": [],
   "source": [
    "train_transactions.loc[train_transactions.index, 'amount'] = np.log(-train_transactions.amount + shift)\n",
    "train_transactions['week_day'] = train_transactions.day % 7\n",
    "train_transactions = train_transactions.sort_values(['mcc_code', 'day'])"
   ]
  },
  {
   "cell_type": "code",
   "execution_count": 7,
   "metadata": {
    "collapsed": true
   },
   "outputs": [],
   "source": [
    "def regression(x):\n",
    "    clf = LinearRegression()\n",
    "    clf.fit(x.day.values.reshape(len(x), 1), x.amount)\n",
    "    return clf.predict((np.arange(1, 31) + x.day.max()).reshape(30, 1))"
   ]
  },
  {
   "cell_type": "code",
   "execution_count": 8,
   "metadata": {
    "collapsed": false
   },
   "outputs": [],
   "source": [
    "tmp = train_transactions[train_transactions.day < 186].groupby('mcc_code')['amount'].mean()\n",
    "code_map = tmp.sort_values().reset_index().reset_index().set_index('mcc_code')['index']"
   ]
  },
  {
   "cell_type": "code",
   "execution_count": 9,
   "metadata": {
    "collapsed": true
   },
   "outputs": [],
   "source": [
    "class LinearReg():\n",
    "    def fit(self, X):\n",
    "        codes = X.mcc_code.unique()\n",
    "        days = np.arange(7)\n",
    "        self.d = {}\n",
    "        index2 = [X.week_day == i for i in range(7)]\n",
    "        for code in codes:\n",
    "            self.d[code] = {}\n",
    "            index1 = X.mcc_code == code\n",
    "            for day in days:\n",
    "                index = index1 & index2[day]\n",
    "                self.d[code][day] = LinearRegression()\n",
    "                x = X[index]\n",
    "                self.d[code][day].fit(x.day.values.reshape(len(x), 1), x.amount)\n",
    "    def predict(self, X):\n",
    "        prediction = []\n",
    "        for day, code, weekday in X[['day', 'mcc_code', 'week_day']].values:\n",
    "            prediction.append(self.d[code][weekday].predict(day)[0])\n",
    "        return prediction\n",
    "    \n",
    "class LinearReg2():\n",
    "    def fit(self, X):\n",
    "        codes = X.mcc_code.unique()\n",
    "        days = [True, False]\n",
    "        self.d = {}\n",
    "        index2 = [X.weekend == i for i in days]\n",
    "        for code in codes:\n",
    "            self.d[code] = {}\n",
    "            index1 = X.mcc_code == code\n",
    "            for day in days:\n",
    "                index = index1 & index2[day]\n",
    "                self.d[code][day] = LinearRegression()\n",
    "                x = X[index]\n",
    "                self.d[code][day].fit(x.day.values.reshape(len(x), 1), x.amount)\n",
    "    def predict(self, X):\n",
    "        prediction = []\n",
    "        for day, code, weekday in X[['day', 'mcc_code', 'weekend']].values:\n",
    "            prediction.append(self.d[code][weekday].predict(day)[0])\n",
    "        return prediction\n",
    "    \n",
    "a = [0.93]**np.arange(50, 0, -1)\n",
    "a = a / a.sum()\n",
    "\n",
    "a2 = [0.7]**np.arange(15, 0, -1)\n",
    "a2 = a2 / a2.sum()\n",
    "\n",
    "def create_weighted_mean(series):\n",
    "    return a.dot(series[-50:])\n",
    "def create_weighted_mean2(series):\n",
    "    return a2.dot(series[-15:])"
   ]
  },
  {
   "cell_type": "code",
   "execution_count": 10,
   "metadata": {
    "collapsed": false
   },
   "outputs": [],
   "source": [
    "M = np.array(list(train_transactions.groupby('mcc_code').amount.apply(list).values))"
   ]
  },
  {
   "cell_type": "code",
   "execution_count": 11,
   "metadata": {
    "collapsed": false
   },
   "outputs": [],
   "source": [
    "def mean_error(s):\n",
    "    e = [[] for i in range(30)]\n",
    "    n = len(s)\n",
    "    for i in range(1, 61):\n",
    "        m = np.mean(s[:n - i])\n",
    "        left = max(1, i - 29)\n",
    "        right = min(i, 30)\n",
    "        for j in range(left, right + 1):\n",
    "            e[j - 1].append((m - s[n - i + j - 1])**2)\n",
    "    for i in range(30):\n",
    "        e[i] = np.mean(e[i])\n",
    "    return e \n",
    "def weighted_mean_error(s):\n",
    "    e = [[] for i in range(30)]\n",
    "    n = len(s)\n",
    "    for i in range(1, 61):\n",
    "        m = create_weighted_mean(s[:n - i])\n",
    "        left = max(1, i - 29)\n",
    "        right = min(i, 30)\n",
    "        for j in range(left, right + 1):\n",
    "            e[j - 1].append((m - s[n - i + j - 1])**2)\n",
    "    for i in range(30):\n",
    "        e[i] = np.mean(e[i])\n",
    "    return e \n",
    "def mean_last_year_error(s):\n",
    "    e = [[] for i in range(30)]\n",
    "    s = s[-182-45:]\n",
    "    n = len(s)\n",
    "    for i in range(1, 61):\n",
    "        m = np.mean(s[:n - i])\n",
    "        left = max(1, i - 29)\n",
    "        right = min(i, 30)\n",
    "        for j in range(left, right + 1):\n",
    "            e[j - 1].append((m - s[n - i + j - 1])**2)\n",
    "    for i in range(30):\n",
    "        e[i] = np.mean(e[i])\n",
    "    return e \n",
    "def mean_last_month_error(s):\n",
    "    e = [[] for i in range(30)]\n",
    "    n = len(s)\n",
    "    for i in range(1, 61):\n",
    "        m = np.mean(s[n - i - 30:n - i])\n",
    "        left = max(1, i - 29)\n",
    "        right = min(i, 30)\n",
    "        for j in range(left, right + 1):\n",
    "            e[j - 1].append((m - s[n - i + j - 1])**2)\n",
    "    for i in range(30):\n",
    "        e[i] = np.mean(e[i])\n",
    "    return e \n",
    "def mean_last_week_error(s):\n",
    "    e = [[] for i in range(30)]\n",
    "    n = len(s)\n",
    "    for i in range(1, 61):\n",
    "        m = np.mean(s[n - i - 7:n - i])\n",
    "        left = max(1, i - 29)\n",
    "        right = min(i, 30)\n",
    "        for j in range(left, right + 1):\n",
    "            e[j - 1].append((m - s[n - i + j - 1])**2)\n",
    "    for i in range(30):\n",
    "        e[i] = np.mean(e[i])\n",
    "    return e \n",
    "def regression_error(s):\n",
    "    e = [[] for i in range(30)]\n",
    "    n = len(s)\n",
    "    model = LinearRegression()\n",
    "    for i in range(1, 61):\n",
    "        l = len(s[:n - i])\n",
    "        model.fit(np.arange(0, l).reshape(l, 1), s[:n - i])\n",
    "        m = model.predict(np.arange(l, l + 30).reshape(30, 1))\n",
    "        left = max(1, i - 29)\n",
    "        right = min(i, 30)\n",
    "        for j in range(left, right + 1):\n",
    "            e[j - 1].append((m[j - 1] - s[n - i + j - 1])**2)\n",
    "    for i in range(30):\n",
    "        e[i] = np.mean(e[i])\n",
    "    return e \n",
    "def regression_year_error(s):\n",
    "    e = [[] for i in range(30)]\n",
    "    n = len(s)\n",
    "    model = LinearRegression()\n",
    "    for i in range(1, 61):\n",
    "        l = len(s[max(0, n - i - 182):n - i])\n",
    "        model.fit(np.arange(0, l).reshape(l, 1), s[max(0, n - i - 182):n - i])\n",
    "        m = model.predict(np.arange(l, l + 30).reshape(30, 1))\n",
    "        left = max(1, i - 29)\n",
    "        right = min(i, 30)\n",
    "        for j in range(left, right + 1):\n",
    "            e[j - 1].append((m[j - 1] - s[n - i + j - 1])**2)\n",
    "    for i in range(30):\n",
    "        e[i] = np.mean(e[i])\n",
    "    return e \n",
    "def regression_month_error(s):\n",
    "    e = [[] for i in range(30)]\n",
    "    n = len(s)\n",
    "    model = LinearRegression()\n",
    "    for i in range(1, 61):\n",
    "        l = len(s[n - i - 30:n - i])\n",
    "        model.fit(np.arange(0, l).reshape(l, 1), s[n - i - 30:n - i])\n",
    "        m = model.predict(np.arange(l, l + 30).reshape(30, 1))\n",
    "        left = max(1, i - 29)\n",
    "        right = min(i, 30)\n",
    "        for j in range(left, right + 1):\n",
    "            e[j - 1].append((m[j - 1] - s[n - i + j - 1])**2)\n",
    "    for i in range(30):\n",
    "        e[i] = np.mean(e[i])\n",
    "    return e \n",
    "def regression_very_good_error(s):\n",
    "    e = [[] for i in range(30)]\n",
    "    n = len(s)\n",
    "    models = [LinearRegression() for i in range(7)]\n",
    "    for i in range(1, 61):\n",
    "        l = len(s[:n - i])\n",
    "        for k in range(7):\n",
    "            y = s[:n - i][k::7]\n",
    "            X = np.arange(0, l)[k::7]\n",
    "            X = X.reshape(len(X), 1)\n",
    "            models[k].fit(X, y)\n",
    "        left = max(1, i - 29)\n",
    "        right = min(i, 30)\n",
    "        for j in range(left, right + 1):\n",
    "            time = n - i + j - 1\n",
    "            e[j - 1].append((models[time % 7].predict(time)[0] - s[time])**2)\n",
    "    for i in range(30):\n",
    "        e[i] = np.mean(e[i])\n",
    "    return e \n",
    "def week_amount_mean_error(s):\n",
    "    e = [[] for i in range(30)]\n",
    "    n = len(s)\n",
    "    for i in range(1, 61):\n",
    "        l = len(s[:n - i])\n",
    "        m = [np.mean(s[:n - i][k::7]) for k in range(7)]\n",
    "        left = max(1, i - 29)\n",
    "        right = min(i, 30)\n",
    "        for j in range(left, right + 1):\n",
    "            time = n - i + j - 1\n",
    "            e[j - 1].append((m[time % 7] - s[time])**2)\n",
    "    for i in range(30):\n",
    "        e[i] = np.mean(e[i])\n",
    "    return e \n",
    "def week_amount_mean_year_error(s):\n",
    "    e = [[] for i in range(30)]\n",
    "    s = s[-182-45:]\n",
    "    n = len(s)\n",
    "    for i in range(1, 61):\n",
    "        l = len(s[:n - i])\n",
    "        m = [np.mean(s[:n - i][k::7]) for k in range(7)]\n",
    "        left = max(1, i - 29)\n",
    "        right = min(i, 30)\n",
    "        for j in range(left, right + 1):\n",
    "            time = n - i + j - 1\n",
    "            e[j - 1].append((m[time % 7] - s[time])**2)\n",
    "    for i in range(30):\n",
    "        e[i] = np.mean(e[i])\n",
    "    return e "
   ]
  },
  {
   "cell_type": "code",
   "execution_count": 12,
   "metadata": {
    "collapsed": false
   },
   "outputs": [],
   "source": [
    "def create_month_data(max_day, data):\n",
    "    if max_day == data.day.max():\n",
    "        index = (data.day > max_day - 30) & (data.day <= max_day)\n",
    "        X = data[index].copy()\n",
    "        X.day += 30\n",
    "        X.amount = np.nan\n",
    "    else:\n",
    "        index = (data.day > max_day) & (data.day <= max_day + 30)\n",
    "        X = data[index].copy()\n",
    "    X['week_day'] = X.day % 7\n",
    "    X['weekend'] = abs(X.week_day - 1.5) < 1\n",
    "    data['weekend'] = abs(data.week_day - 1.5) < 1\n",
    "    data = data[data.day <= max_day]\n",
    "    data['zeros'] = data.amount == np.log(shift)\n",
    "    story = data\n",
    "    tmp = story.groupby(['mcc_code', 'week_day']).amount.mean().reset_index()\n",
    "    tmp.columns = list(tmp.columns[:-1]) + ['week_amount_mean']\n",
    "    X = pd.merge(X, tmp, how='left')\n",
    "\n",
    "    \n",
    "    story = data[data.day > max_day - 182]\n",
    "    tmp = story.groupby(['mcc_code', 'week_day']).amount.mean().reset_index()\n",
    "    tmp.columns = list(tmp.columns[:-1]) + ['week_amount_mean_year']\n",
    "    X = pd.merge(X, tmp, how='left')\n",
    "    \n",
    "    std = data.groupby(['mcc_code', 'week_day'])['amount'].mean().reset_index().groupby(['mcc_code'])['amount'].std()\n",
    "    X['t'] = X.day - max_day\n",
    "    \n",
    "    X = X.sort_values(['mcc_code', 'day']).set_index('mcc_code')\n",
    "    \n",
    "    \n",
    "    X['zeros'] = data.zeros.groupby(story.mcc_code).mean()\n",
    "    \n",
    "    \n",
    "    story = data\n",
    "    X['mean_all'] = story.amount.groupby(by=story.mcc_code).mean()\n",
    "    X['weighted_mean'] = story.amount.groupby(by=story.mcc_code).apply(create_weighted_mean)\n",
    "    \n",
    "    story = data[data.day > max_day - 182]\n",
    "    X['mean_last_year'] = story.amount.groupby(by=story.mcc_code).mean()\n",
    "    story = data[data.day > max_day - 30]\n",
    "    X['mean_last_month'] = story.amount.groupby(by=story.mcc_code).mean()\n",
    "    story = data[data.day > max_day - 7]\n",
    "    X['mean_last_week'] = story.amount.groupby(by=story.mcc_code).mean()\n",
    "    X['last_day'] = data[data.day == max_day].set_index('mcc_code').amount\n",
    "    story = data\n",
    "    X['regression'] = np.concatenate(story.groupby(story.mcc_code).apply(regression).values)\n",
    "    story = data[data.day > max_day - 182]\n",
    "    X['regression_year'] = np.concatenate(story.groupby(story.mcc_code).apply(regression).values)\n",
    "    story = data[data.day > max_day - 30]\n",
    "    X['regression_month'] = np.concatenate(story.groupby(story.mcc_code).apply(regression).values)\n",
    "    X['diff_mean_yaer_mean_weekday_year']  = X['mean_all'] - X['week_amount_mean']\n",
    "    good_regress= LinearReg()\n",
    "    good_regress.fit(data)\n",
    "    X['regression_very_good'] = good_regress.predict(X.reset_index())\n",
    "    X['good'] = 0.3 * X.week_amount_mean_year + 0.45 * X.mean_last_month + 0.25 * X.regression_very_good\n",
    "    M = np.array(list(data.groupby('mcc_code').amount.apply(list).values))\n",
    "    \n",
    "    w1 = np.hstack([week_amount_mean_error(M[i]) for i in range(len(M))])\n",
    "    w2 = np.hstack([regression_very_good_error(M[i]) for i in range(len(M))])\n",
    "    w3 = np.hstack([weighted_mean_error(M[i]) for i in range(len(M))])\n",
    "    w4 = np.hstack([mean_last_year_error(M[i]) for i in range(len(M))])\n",
    "    w1 = (1 / w1)**4\n",
    "    w2 = (1 / w2)**4\n",
    "    w3 = (1 / w3)**4\n",
    "    w4 = (1 / w4)**4\n",
    "    tmp = w1 * X.week_amount_mean +  w2 * X.regression_very_good + w3 * X.weighted_mean + w4 * X.mean_last_year\n",
    "    X['very_very_good'] = tmp / (w1 + w2 + w3 + w4)\n",
    "    \n",
    "    X['diff_mean_all_mean_last_year'] = X['mean_all'] - X['mean_last_year']\n",
    "    X['diff_last_day_regression_very_good'] = X['last_day'] - X['regression_very_good']\n",
    "    \n",
    "    return X"
   ]
  },
  {
   "cell_type": "code",
   "execution_count": 13,
   "metadata": {
    "collapsed": false
   },
   "outputs": [],
   "source": [
    "def rmse(x, y):\n",
    "    return np.sqrt(np.mean((x - y)**2))"
   ]
  },
  {
   "cell_type": "code",
   "execution_count": 14,
   "metadata": {
    "collapsed": false
   },
   "outputs": [],
   "source": [
    "def create_train_test2(data, max_day1, max_day2):\n",
    "    test = create_month_data(max_day2, data)\n",
    "    train = pd.concat([create_month_data(i, data) for i in range(max_day1, max_day2 - 29, 30)])\n",
    "    train = train.reset_index()\n",
    "    test = test.reset_index()\n",
    "    train.mcc_code = train.mcc_code.map(code_map)\n",
    "    test.mcc_code = test.mcc_code.map(code_map)\n",
    "    return (train.drop(['day', 'amount', 'week_day', 'mean_all'], axis=1), \n",
    "            test.drop(['day', 'amount', 'week_day', 'mean_all'], axis=1), \n",
    "            train.amount, \n",
    "            test.amount)"
   ]
  },
  {
   "cell_type": "code",
   "execution_count": 15,
   "metadata": {
    "collapsed": false
   },
   "outputs": [
    {
     "name": "stderr",
     "output_type": "stream",
     "text": [
      "//anaconda/lib/python3.5/site-packages/scipy/linalg/basic.py:884: RuntimeWarning: internal gelsd driver lwork query error, required iwork dimension not returned. This is likely the result of LAPACK bug 0038, fixed in LAPACK 3.2.2 (released July 21, 2010). Falling back to 'gelss' driver.\n",
      "  warnings.warn(mesg, RuntimeWarning)\n",
      "//anaconda/lib/python3.5/site-packages/ipykernel/__main__.py:14: SettingWithCopyWarning: \n",
      "A value is trying to be set on a copy of a slice from a DataFrame.\n",
      "Try using .loc[row_indexer,col_indexer] = value instead\n",
      "\n",
      "See the caveats in the documentation: http://pandas.pydata.org/pandas-docs/stable/indexing.html#indexing-view-versus-copy\n"
     ]
    }
   ],
   "source": [
    "Xtrain, Xtest, ytrain,_ = create_train_test2(train_transactions, 186, train_transactions.day.max())"
   ]
  },
  {
   "cell_type": "code",
   "execution_count": 16,
   "metadata": {
    "collapsed": true
   },
   "outputs": [],
   "source": [
    "model = xgboost.XGBRegressor(max_depth=3, n_estimators=283, seed=0, nthread=8, learning_rate=0.05)\n",
    "model.fit(Xtrain, ytrain)\n",
    "pred = model.predict(Xtest)"
   ]
  },
  {
   "cell_type": "code",
   "execution_count": 17,
   "metadata": {
    "collapsed": true
   },
   "outputs": [],
   "source": [
    "code_map_invert = code_map.reset_index()['mcc_code']\n",
    "Xtest.mcc_code = Xtest.mcc_code.map(code_map_invert)"
   ]
  },
  {
   "cell_type": "code",
   "execution_count": 18,
   "metadata": {
    "collapsed": false
   },
   "outputs": [],
   "source": [
    "Xtest['volume'] = pred\n",
    "Xtest['day'] = Xtest.t +  train_transactions.day.max()\n",
    "test_transactions = pd.DataFrame(columns=train_transactions.mcc_code.unique(), \n",
    "                                 index=np.arange(1, 31) + train_transactions.day.max())\n",
    "test_transactions = test_transactions.unstack().reset_index().dropna(axis=1)\n",
    "test_transactions.columns = ['mcc_code', 'day']\n",
    "test_transactions = pd.merge(test_transactions, Xtest[['mcc_code', 'day', 'volume']])\n",
    "test_transactions.volume = np.e ** test_transactions.volume - shift"
   ]
  },
  {
   "cell_type": "code",
   "execution_count": 19,
   "metadata": {
    "collapsed": false
   },
   "outputs": [],
   "source": [
    "test_transactions2 = test_transactions.copy()\n",
    "tmp = np.log(test_transactions[test_transactions.mcc_code == 6211].volume + 500) + 1.5\n",
    "test_transactions2.loc[test_transactions.mcc_code == 6211, 'volume'] = np.e**tmp - 500\n",
    "tmp = np.log(test_transactions[test_transactions.mcc_code == 4722].volume + 500) - 1\n",
    "test_transactions2.loc[test_transactions.mcc_code == 4722, 'volume'] = np.e**tmp - 500\n",
    "tmp = np.log(test_transactions[test_transactions.mcc_code == 3501].volume + 500) - 0.5\n",
    "test_transactions2.loc[test_transactions.mcc_code == 3501, 'volume'] = np.e**tmp - 500"
   ]
  },
  {
   "cell_type": "code",
   "execution_count": 20,
   "metadata": {
    "collapsed": false
   },
   "outputs": [],
   "source": [
    "test_transactions2[['mcc_code', 'day', 'volume']].to_csv('B.csv', index=False)"
   ]
  },
  {
   "cell_type": "code",
   "execution_count": 3473,
   "metadata": {
    "collapsed": true
   },
   "outputs": [],
   "source": []
  },
  {
   "cell_type": "code",
   "execution_count": null,
   "metadata": {
    "collapsed": true
   },
   "outputs": [],
   "source": []
  }
 ],
 "metadata": {
  "kernelspec": {
   "display_name": "Python 3",
   "language": "python",
   "name": "python3"
  },
  "language_info": {
   "codemirror_mode": {
    "name": "ipython",
    "version": 3
   },
   "file_extension": ".py",
   "mimetype": "text/x-python",
   "name": "python",
   "nbconvert_exporter": "python",
   "pygments_lexer": "ipython3",
   "version": "3.5.1"
  }
 },
 "nbformat": 4,
 "nbformat_minor": 0
}
